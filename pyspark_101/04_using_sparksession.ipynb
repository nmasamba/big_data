{
 "cells": [
  {
   "cell_type": "code",
   "execution_count": 1,
   "id": "79512928",
   "metadata": {},
   "outputs": [
    {
     "name": "stderr",
     "output_type": "stream",
     "text": [
      "22/05/03 20:51:30 WARN NativeCodeLoader: Unable to load native-hadoop library for your platform... using builtin-java classes where applicable\n",
      "Using Spark's default log4j profile: org/apache/spark/log4j-defaults.properties\n",
      "Setting default log level to \"WARN\".\n",
      "To adjust logging level use sc.setLogLevel(newLevel). For SparkR, use setLogLevel(newLevel).\n"
     ]
    }
   ],
   "source": [
    "\n",
    "from pyspark import SparkConf, SparkContext\n",
    "from datetime import datetime\n",
    "\n",
    "conf = SparkConf().setMaster(\"local\").setAppName(\"SparkSession2\")\n",
    "sc = SparkContext(conf = conf)"
   ]
  },
  {
   "cell_type": "code",
   "execution_count": 2,
   "id": "534f8c61",
   "metadata": {},
   "outputs": [],
   "source": [
    "\n",
    "# Create SparkSession using a SparkContext object\n",
    "from pyspark.sql import SparkSession, Row\n",
    "\n",
    "spark = SparkSession(sc)"
   ]
  },
  {
   "cell_type": "code",
   "execution_count": 3,
   "id": "e51955e5",
   "metadata": {},
   "outputs": [
    {
     "data": {
      "text/html": [
       "\n",
       "            <div>\n",
       "                <p><b>SparkSession - in-memory</b></p>\n",
       "                \n",
       "        <div>\n",
       "            <p><b>SparkContext</b></p>\n",
       "\n",
       "            <p><a href=\"http://nyashas-mbp-2.broadband:4040\">Spark UI</a></p>\n",
       "\n",
       "            <dl>\n",
       "              <dt>Version</dt>\n",
       "                <dd><code>v3.1.2</code></dd>\n",
       "              <dt>Master</dt>\n",
       "                <dd><code>local</code></dd>\n",
       "              <dt>AppName</dt>\n",
       "                <dd><code>SparkSession2</code></dd>\n",
       "            </dl>\n",
       "        </div>\n",
       "        \n",
       "            </div>\n",
       "        "
      ],
      "text/plain": [
       "<pyspark.sql.session.SparkSession at 0x7fd842e48e90>"
      ]
     },
     "execution_count": 3,
     "metadata": {},
     "output_type": "execute_result"
    }
   ],
   "source": [
    "spark"
   ]
  },
  {
   "cell_type": "code",
   "execution_count": 4,
   "id": "fbeea5ea",
   "metadata": {},
   "outputs": [
    {
     "name": "stderr",
     "output_type": "stream",
     "text": [
      "                                                                                \r"
     ]
    }
   ],
   "source": [
    "\n",
    "# RDD parallelisation\n",
    "allTypes = sc.parallelize([Row(i=1, s=\"string\", d=1.0, l=1, b=True, list=[1, 2, 3], dict={\"s\": 0}, row=Row(a=1),\n",
    "                               time=datetime(2021, 8, 1, 14, 1, 5))])\n",
    "\n",
    "# convert RDD to Spark DF\n",
    "df = allTypes.toDF()\n",
    "df.createOrReplaceTempView(\"allTypes\")"
   ]
  },
  {
   "cell_type": "code",
   "execution_count": 5,
   "id": "aca76916",
   "metadata": {},
   "outputs": [
    {
     "data": {
      "text/plain": [
       "[Row((i + CAST(1 AS BIGINT))=2, (d + CAST(1 AS DOUBLE))=2.0, (NOT b)=False, list[1]=2, dict[s]=0, time=datetime.datetime(2021, 8, 1, 14, 1, 5), a=1)]"
      ]
     },
     "execution_count": 5,
     "metadata": {},
     "output_type": "execute_result"
    }
   ],
   "source": [
    "# query Spark DF using SQL\n",
    "spark.sql('select i+1, d+1, not b, list[1], dict[\"s\"], time, row.a from allTypes where b and i > 0').collect()"
   ]
  },
  {
   "cell_type": "code",
   "execution_count": 6,
   "id": "1bde95b0",
   "metadata": {},
   "outputs": [
    {
     "data": {
      "text/plain": [
       "[(1,\n",
       "  'string',\n",
       "  1.0,\n",
       "  1,\n",
       "  True,\n",
       "  datetime.datetime(2021, 8, 1, 14, 1, 5),\n",
       "  1,\n",
       "  [1, 2, 3])]"
      ]
     },
     "execution_count": 6,
     "metadata": {},
     "output_type": "execute_result"
    }
   ],
   "source": [
    "\n",
    "# convert back to RDD\n",
    "df.rdd.map(lambda x: (x.i, x.s, x.d, x.l, x.b, x.time, x.row.a, x.list)).collect()"
   ]
  },
  {
   "cell_type": "code",
   "execution_count": null,
   "id": "0e77868c",
   "metadata": {},
   "outputs": [],
   "source": []
  }
 ],
 "metadata": {
  "kernelspec": {
   "display_name": "Python [conda env:spark]",
   "language": "python",
   "name": "conda-env-spark-py"
  },
  "language_info": {
   "codemirror_mode": {
    "name": "ipython",
    "version": 3
   },
   "file_extension": ".py",
   "mimetype": "text/x-python",
   "name": "python",
   "nbconvert_exporter": "python",
   "pygments_lexer": "ipython3",
   "version": "3.7.13"
  }
 },
 "nbformat": 4,
 "nbformat_minor": 5
}

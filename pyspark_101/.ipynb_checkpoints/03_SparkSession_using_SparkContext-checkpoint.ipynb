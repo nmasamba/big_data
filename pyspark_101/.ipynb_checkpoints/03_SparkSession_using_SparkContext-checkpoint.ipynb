{
 "cells": [
  {
   "cell_type": "markdown",
   "id": "9a5a4d2b",
   "metadata": {},
   "source": [
    "## From RDDs to DataFrames in Spark\n",
    "\n",
    "Spark's core data structure is the Resilient Distributed Dataset (RDD). This is a low-level object native to Spark. It enables distributed computing across multiple nodes within a Spark cluster. However, instead of using RDDs (which can be difficult to manipulate directly), Spark also provides a DataFrame abstraction based on RDDs.\n",
    "\n",
    "The Spark DataFrame has some advantages over an RDD:\n",
    "<ul>\n",
    "    <li>Simpler to understand - Spark DataFrames are somewhat similar to SQL tables.</li>\n",
    "    <li>Optimised for more complex operations.</li>\n",
    "    <li>Spark DataFrame optimisation works 'out-of-the-box'.</li>\n",
    "</ul>\n",
    "\n",
    "A SparkSession object is the entry point for all functionality into SparkSQL - the Spark framework that enables working with Spark DataFrames. There are two ways to create a SparkSession object. The first way involves using a SparkSession builder. The second, more elaborate way (which also enables work with RDDs to take place) involves creating a SparkSession from the SparkContext. In the second case, the SparkContext is the connection to the cluster, while the SparkSession provides an interface to that cluster."
   ]
  },
  {
   "cell_type": "code",
   "execution_count": 1,
   "id": "e231243d",
   "metadata": {},
   "outputs": [
    {
     "name": "stderr",
     "output_type": "stream",
     "text": [
      "22/05/09 21:05:10 WARN NativeCodeLoader: Unable to load native-hadoop library for your platform... using builtin-java classes where applicable\n",
      "Using Spark's default log4j profile: org/apache/spark/log4j-defaults.properties\n",
      "Setting default log level to \"WARN\".\n",
      "To adjust logging level use sc.setLogLevel(newLevel). For SparkR, use setLogLevel(newLevel).\n"
     ]
    }
   ],
   "source": [
    "\n",
    "from pyspark import SparkConf, SparkContext\n",
    "\n",
    "conf = SparkConf().setMaster(\"local\").setAppName(\"SparkSession2\")\n",
    "sc = SparkContext(conf = conf)"
   ]
  },
  {
   "cell_type": "code",
   "execution_count": 2,
   "id": "bc8904f8",
   "metadata": {},
   "outputs": [],
   "source": [
    "\n",
    "# Create SparkSession using a SparkContext object\n",
    "from pyspark.sql import SparkSession\n",
    "\n",
    "spark = SparkSession(sc)"
   ]
  },
  {
   "cell_type": "code",
   "execution_count": 3,
   "id": "ffcd023c",
   "metadata": {},
   "outputs": [
    {
     "data": {
      "text/html": [
       "\n",
       "            <div>\n",
       "                <p><b>SparkSession - in-memory</b></p>\n",
       "                \n",
       "        <div>\n",
       "            <p><b>SparkContext</b></p>\n",
       "\n",
       "            <p><a href=\"http://nyashas-mbp-2.broadband:4040\">Spark UI</a></p>\n",
       "\n",
       "            <dl>\n",
       "              <dt>Version</dt>\n",
       "                <dd><code>v3.1.2</code></dd>\n",
       "              <dt>Master</dt>\n",
       "                <dd><code>local</code></dd>\n",
       "              <dt>AppName</dt>\n",
       "                <dd><code>SparkSession2</code></dd>\n",
       "            </dl>\n",
       "        </div>\n",
       "        \n",
       "            </div>\n",
       "        "
      ],
      "text/plain": [
       "<pyspark.sql.session.SparkSession at 0x7f79ea1cb910>"
      ]
     },
     "execution_count": 3,
     "metadata": {},
     "output_type": "execute_result"
    }
   ],
   "source": [
    "\n",
    "# Print SparkSession info\n",
    "spark"
   ]
  },
  {
   "cell_type": "code",
   "execution_count": null,
   "id": "10a21350",
   "metadata": {},
   "outputs": [],
   "source": []
  }
 ],
 "metadata": {
  "kernelspec": {
   "display_name": "Python [conda env:spark]",
   "language": "python",
   "name": "conda-env-spark-py"
  },
  "language_info": {
   "codemirror_mode": {
    "name": "ipython",
    "version": 3
   },
   "file_extension": ".py",
   "mimetype": "text/x-python",
   "name": "python",
   "nbconvert_exporter": "python",
   "pygments_lexer": "ipython3",
   "version": "3.7.13"
  }
 },
 "nbformat": 4,
 "nbformat_minor": 5
}

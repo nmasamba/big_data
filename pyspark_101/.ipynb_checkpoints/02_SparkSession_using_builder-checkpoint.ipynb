{
 "cells": [
  {
   "cell_type": "markdown",
   "id": "8f575d46",
   "metadata": {},
   "source": [
    "## From RDDs to DataFrames in Spark\n",
    "\n",
    "Spark's core data structure is the Resilient Distributed Dataset (RDD). This is a low-level object native to Spark. It enables distributed computing across multiple nodes within a Spark cluster. However, instead of using RDDs (which can be difficult to manipulate directly), Spark also provides a DataFrame abstraction based on RDDs.\n",
    "\n",
    "The Spark DataFrame has some advantages over an RDD:\n",
    "<ul>\n",
    "    <li>Simpler to understand - Spark DataFrames are somewhat similar to SQL tables.</li>\n",
    "    <li>Optimised for more complex operations.</li>\n",
    "    <li>Spark DataFrame optimisation works 'out-of-the-box'.</li>\n",
    "</ul>\n",
    "\n",
    "A SparkSession object is the entry point for all functionality into SparkSQL - the Spark framework that enables working with Spark DataFrames. There are two ways to create a SparkSession object. The first way involves using a SparkSession builder. The second, more elaborate way (which also enables work with RDDs to take place) involves creating a SparkSession from the SparkContext. In the second case, the SparkContext is the connection to the cluster, while the SparkSession provides an interface to that cluster."
   ]
  },
  {
   "cell_type": "code",
   "execution_count": 1,
   "id": "ba5d79c3",
   "metadata": {},
   "outputs": [
    {
     "name": "stderr",
     "output_type": "stream",
     "text": [
      "22/05/09 21:00:43 WARN NativeCodeLoader: Unable to load native-hadoop library for your platform... using builtin-java classes where applicable\n",
      "Using Spark's default log4j profile: org/apache/spark/log4j-defaults.properties\n",
      "Setting default log level to \"WARN\".\n",
      "To adjust logging level use sc.setLogLevel(newLevel). For SparkR, use setLogLevel(newLevel).\n"
     ]
    }
   ],
   "source": [
    "\n",
    "# Create SparkSession using SparkSession.builder\n",
    "from pyspark.sql import SparkSession\n",
    "\n",
    "spark = SparkSession \\\n",
    "    .builder \\\n",
    "    .appName(\"SparkSession\") \\\n",
    "    .master(\"local[1]\") \\\n",
    "    .getOrCreate()"
   ]
  },
  {
   "cell_type": "code",
   "execution_count": null,
   "id": "8605027d",
   "metadata": {},
   "outputs": [],
   "source": []
  }
 ],
 "metadata": {
  "kernelspec": {
   "display_name": "Python [conda env:spark]",
   "language": "python",
   "name": "conda-env-spark-py"
  },
  "language_info": {
   "codemirror_mode": {
    "name": "ipython",
    "version": 3
   },
   "file_extension": ".py",
   "mimetype": "text/x-python",
   "name": "python",
   "nbconvert_exporter": "python",
   "pygments_lexer": "ipython3",
   "version": "3.7.13"
  }
 },
 "nbformat": 4,
 "nbformat_minor": 5
}

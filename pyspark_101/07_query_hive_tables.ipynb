{
 "cells": [
  {
   "cell_type": "code",
   "execution_count": 1,
   "id": "1597360b",
   "metadata": {},
   "outputs": [
    {
     "name": "stderr",
     "output_type": "stream",
     "text": [
      "22/05/12 22:51:06 WARN NativeCodeLoader: Unable to load native-hadoop library for your platform... using builtin-java classes where applicable\n",
      "Using Spark's default log4j profile: org/apache/spark/log4j-defaults.properties\n",
      "Setting default log level to \"WARN\".\n",
      "To adjust logging level use sc.setLogLevel(newLevel). For SparkR, use setLogLevel(newLevel).\n"
     ]
    }
   ],
   "source": [
    "\n",
    "from os.path import abspath\n",
    "from pyspark.sql import SparkSession\n",
    "\n",
    "# warehouse_location points to the default location for managed databases and tables\n",
    "warehouse_location = abspath('spark-warehouse')\n",
    "\n",
    "# start SparkSession with Hive support enabled\n",
    "spark = SparkSession \\\n",
    "    .builder \\\n",
    "    .appName(\"SparkSession\") \\\n",
    "    .master(\"local[1]\") \\\n",
    "    .config(\"spark.sql.warehouse.dir\", warehouse_location) \\\n",
    "    .enableHiveSupport() \\\n",
    "    .getOrCreate()"
   ]
  },
  {
   "cell_type": "code",
   "execution_count": 2,
   "id": "f4404091",
   "metadata": {},
   "outputs": [
    {
     "name": "stderr",
     "output_type": "stream",
     "text": [
      "22/05/12 22:51:10 WARN HiveConf: HiveConf of name hive.stats.jdbc.timeout does not exist\n",
      "22/05/12 22:51:10 WARN HiveConf: HiveConf of name hive.stats.retries.wait does not exist\n",
      "22/05/12 22:51:13 WARN ObjectStore: Version information not found in metastore. hive.metastore.schema.verification is not enabled so recording the schema version 2.3.0\n",
      "22/05/12 22:51:13 WARN ObjectStore: setMetaStoreSchemaVersion called but recording version is disabled: version = 2.3.0, comment = Set by MetaStore nm@192.168.1.143\n",
      "22/05/12 22:51:15 WARN ObjectStore: Failed to get database global_temp, returning NoSuchObjectException\n",
      "22/05/12 22:51:17 WARN SessionState: METASTORE_FILTER_HOOK will be ignored, since hive.security.authorization.manager is set to instance of HiveAuthorizerFactory.\n",
      "22/05/12 22:51:17 WARN HiveConf: HiveConf of name hive.internal.ss.authz.settings.applied.marker does not exist\n",
      "22/05/12 22:51:17 WARN HiveConf: HiveConf of name hive.stats.jdbc.timeout does not exist\n",
      "22/05/12 22:51:17 WARN HiveConf: HiveConf of name hive.stats.retries.wait does not exist\n",
      "22/05/12 22:51:17 WARN HiveMetaStore: Location: file:/Users/nm/Projects/big_data_github_projects/pyspark_101/spark-warehouse/flights specified for non-external table:flights\n"
     ]
    },
    {
     "data": {
      "text/plain": [
       "DataFrame[]"
      ]
     },
     "execution_count": 2,
     "metadata": {},
     "output_type": "execute_result"
    }
   ],
   "source": [
    "\n",
    "# create Hive table\n",
    "# Apache Hive facilitates reading, writing, and managing large datasets residing in distributed storage using SQL\n",
    "# Structure can be projected onto data already in storage\n",
    "# A command line tool and JDBC driver are provided to connect users to Hive\n",
    "spark.sql(\"CREATE TABLE IF NOT EXISTS flights (year INT, \\\n",
    "                                                month INT, \\\n",
    "                                                day INT, \\\n",
    "                                                dep_time STRING, \\\n",
    "                                                dep_delay STRING, \\\n",
    "                                                arr_time STRING, \\\n",
    "                                                arr_delay STRING, \\\n",
    "                                                carrier STRING, \\\n",
    "                                                tailnum STRING, \\\n",
    "                                                flight INT, \\\n",
    "                                                origin STRING, \\\n",
    "                                                dest STRING, \\\n",
    "                                                air_time STRING, \\\n",
    "                                                distance INTEGER, \\\n",
    "                                                hour STRING, \\\n",
    "                                                minute STRING) USING hive\")"
   ]
  },
  {
   "cell_type": "code",
   "execution_count": 3,
   "id": "4a36b317",
   "metadata": {},
   "outputs": [
    {
     "name": "stderr",
     "output_type": "stream",
     "text": [
      "\r",
      "[Stage 0:>                                                          (0 + 1) / 1]\r"
     ]
    },
    {
     "name": "stdout",
     "output_type": "stream",
     "text": [
      "[Table(name='flights', database='default', description=None, tableType='MANAGED', isTemporary=False)]\n"
     ]
    },
    {
     "name": "stderr",
     "output_type": "stream",
     "text": [
      "\r",
      "                                                                                \r"
     ]
    }
   ],
   "source": [
    "\n",
    "# Print the tables in the catalog\n",
    "print(spark.catalog.listTables())"
   ]
  },
  {
   "cell_type": "code",
   "execution_count": 4,
   "id": "faf3332b",
   "metadata": {},
   "outputs": [
    {
     "data": {
      "text/plain": [
       "DataFrame[]"
      ]
     },
     "execution_count": 4,
     "metadata": {},
     "output_type": "execute_result"
    }
   ],
   "source": [
    "\n",
    "# Insert records into table\n",
    "spark.sql(\"INSERT INTO flights VALUES(2014, 12, 8, 658, -7, 935, -5, 'VX', 'N846VA', 1780, 'SEA', 'LAX', 132, 954, 6, 58)\")\n",
    "spark.sql(\"INSERT INTO flights VALUES(2014, 1, 22, 1040, 5, 1505, 5, 'AS', 'N559AS', 851, 'SEA', 'HNL', 360, 2677, 10, 40)\")"
   ]
  },
  {
   "cell_type": "code",
   "execution_count": 5,
   "id": "8ce6f015",
   "metadata": {},
   "outputs": [
    {
     "name": "stdout",
     "output_type": "stream",
     "text": [
      "+----+-----+---+--------+---------+--------+---------+-------+-------+------+------+----+--------+--------+----+------+\n",
      "|year|month|day|dep_time|dep_delay|arr_time|arr_delay|carrier|tailnum|flight|origin|dest|air_time|distance|hour|minute|\n",
      "+----+-----+---+--------+---------+--------+---------+-------+-------+------+------+----+--------+--------+----+------+\n",
      "|2014|   12|  8|     658|       -7|     935|       -5|     VX| N846VA|  1780|   SEA| LAX|     132|     954|   6|    58|\n",
      "|2014|    1| 22|    1040|        5|    1505|        5|     AS| N559AS|   851|   SEA| HNL|     360|    2677|  10|    40|\n",
      "+----+-----+---+--------+---------+--------+---------+-------+-------+------+------+----+--------+--------+----+------+\n",
      "\n"
     ]
    }
   ],
   "source": [
    "\n",
    "# Query table in HiveQL\n",
    "spark.sql(\"SELECT * FROM flights\").show()"
   ]
  }
 ],
 "metadata": {
  "kernelspec": {
   "display_name": "Python [conda env:spark]",
   "language": "python",
   "name": "conda-env-spark-py"
  },
  "language_info": {
   "codemirror_mode": {
    "name": "ipython",
    "version": 3
   },
   "file_extension": ".py",
   "mimetype": "text/x-python",
   "name": "python",
   "nbconvert_exporter": "python",
   "pygments_lexer": "ipython3",
   "version": "3.7.13"
  }
 },
 "nbformat": 4,
 "nbformat_minor": 5
}
